{
 "cells": [
  {
   "cell_type": "code",
   "execution_count": 120,
   "id": "5621933a-c59b-4ac4-b2c9-a5188aa8f3f2",
   "metadata": {
    "tags": []
   },
   "outputs": [],
   "source": [
    "import numpy as np\n",
    "import cupy as cp # conda install -c conda-forge cupy\n",
    "# import cupyx.scipy as cpsci\n",
    "from pytictoc import TicToc \n",
    "\n",
    "class TicTok():\n",
    "    def __init__(self, output_msg):\n",
    "        self.t = TicToc()\n",
    "        self.output_msg = output_msg\n",
    "        self.elapsed = None\n",
    "    def __enter__(self):\n",
    "        self.t.tic()\n",
    "    def __exit__(self, type, value, traceback):\n",
    "        self.elapsed = self.t.tocvalue()\n",
    "        print(self.output_msg, \"{:5.5} ms\".format(self.elapsed*1000))"
   ]
  },
  {
   "cell_type": "code",
   "execution_count": 142,
   "id": "253eddb6-2abd-40e2-9873-130c4fad89a6",
   "metadata": {},
   "outputs": [
    {
     "name": "stdout",
     "output_type": "stream",
     "text": [
      "The generated array size: 10 x 10\n",
      " np - elapsed time: 0.017322 ms\n",
      " cp - elapsed time: 13.396 ms\n",
      " np (773.3346 times faster) consumed 0.129% of time compared to cp\n",
      "allocated memory: 0.0008 MB\n",
      "\n",
      "The generated array size: 100 x 100\n",
      " np - elapsed time: 0.52744 ms\n",
      " cp - elapsed time: 0.30219 ms\n",
      " cp (1.745382 times faster) consumed 57.294% of time compared to np\n",
      "allocated memory: 0.08 MB\n",
      "\n",
      "The generated array size: 1000 x 1000\n",
      " np - elapsed time: 0.96192 ms\n",
      " cp - elapsed time: 0.24908 ms\n",
      " cp (3.861939 times faster) consumed 25.894% of time compared to np\n",
      "allocated memory: 8.0 MB\n",
      "\n",
      "The generated array size: 5000 x 5000\n",
      " np - elapsed time: 31.648 ms\n",
      " cp - elapsed time: 0.10993 ms\n",
      " cp (287.9036 times faster) consumed 0.347% of time compared to np\n",
      "allocated memory: 200.0 MB\n",
      "\n",
      "The generated array size: 10000 x 10000\n",
      " np - elapsed time: 101.89 ms\n",
      " cp - elapsed time: 0.11915 ms\n",
      " cp (855.1595 times faster) consumed 0.117% of time compared to np\n",
      "allocated memory: 800.0 MB\n",
      "\n",
      "The generated array size: 30000 x 30000\n",
      " np - elapsed time: 883.52 ms\n",
      " cp - elapsed time: 0.1068 ms\n",
      " cp (8273.01 times faster) consumed 0.012% of time compared to np\n",
      "allocated memory: 7200.0 MB\n",
      "\n"
     ]
    }
   ],
   "source": [
    "# tester\n",
    "def TEST_generate_array(w, h):\n",
    "    print(\"The generated array size:\", w, \"x\", h)\n",
    "\n",
    "    timer_np = TicTok(\" np - elapsed time:\")\n",
    "    with timer_np:\n",
    "        x_np = np.arange(w*h).reshape(w, h)\n",
    "\n",
    "    timer_cp = TicTok(\" cp - elapsed time:\")\n",
    "    with timer_cp:\n",
    "        x_cp = cp.arange(w*h).reshape(w, h)\n",
    "\n",
    "    if(timer_np.elapsed > timer_cp.elapsed):\n",
    "        gain = timer_cp.elapsed / timer_np.elapsed\n",
    "        print(\" cp ({:4.7} times faster) consumed {:5.3%} of time compared to np\".format((1/gain)/1, gain))\n",
    "    else:\n",
    "        gain = timer_np.elapsed / timer_cp.elapsed\n",
    "        print(\" np ({:4.7} times faster) consumed {:5.3%} of time compared to cp\".format((1/gain)/1, gain))\n",
    "\n",
    "    print(\"allocated memory:\", x_cp.nbytes/1000000, \"MB\")\n",
    "    print(\"\")\n",
    "\n",
    "    \n",
    "# test \n",
    "TEST_generate_array(10, 10)\n",
    "TEST_generate_array(100, 100)\n",
    "TEST_generate_array(1000, 1000)\n",
    "TEST_generate_array(5000, 5000)\n",
    "TEST_generate_array(10000, 10000)\n",
    "TEST_generate_array(30000, 30000)"
   ]
  }
 ],
 "metadata": {
  "kernelspec": {
   "display_name": "Python 3 (ipykernel)",
   "language": "python",
   "name": "python3"
  },
  "language_info": {
   "codemirror_mode": {
    "name": "ipython",
    "version": 3
   },
   "file_extension": ".py",
   "mimetype": "text/x-python",
   "name": "python",
   "nbconvert_exporter": "python",
   "pygments_lexer": "ipython3",
   "version": "3.8.11"
  }
 },
 "nbformat": 4,
 "nbformat_minor": 5
}

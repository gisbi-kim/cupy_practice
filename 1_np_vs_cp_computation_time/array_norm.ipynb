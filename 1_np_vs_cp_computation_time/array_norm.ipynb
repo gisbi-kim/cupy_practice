{
 "cells": [
  {
   "cell_type": "code",
   "execution_count": 1,
   "id": "5621933a-c59b-4ac4-b2c9-a5188aa8f3f2",
   "metadata": {
    "tags": []
   },
   "outputs": [],
   "source": [
    "import numpy as np\n",
    "import cupy as cp # conda install -c conda-forge cupy\n",
    "# import cupyx.scipy as cpsci\n",
    "from pytictoc import TicToc \n",
    "\n",
    "class TicTok():\n",
    "    def __init__(self, output_msg):\n",
    "        self.t = TicToc()\n",
    "        self.output_msg = output_msg\n",
    "        self.elapsed = None\n",
    "    def __enter__(self):\n",
    "        self.t.tic()\n",
    "    def __exit__(self, type, value, traceback):\n",
    "        self.elapsed = self.t.tocvalue()\n",
    "        print(self.output_msg, \"{:5.5} ms\".format(self.elapsed*1000))"
   ]
  },
  {
   "cell_type": "code",
   "execution_count": 3,
   "id": "253eddb6-2abd-40e2-9873-130c4fad89a6",
   "metadata": {},
   "outputs": [
    {
     "name": "stdout",
     "output_type": "stream",
     "text": [
      "The generated array size: 10 x 10\n",
      " np - elapsed time: 0.047761 ms\n",
      " cp - elapsed time: 0.83218 ms\n",
      " np (17.42378 times faster) consumed 5.739% of time compared to cp\n",
      "array's allocated memory: 0.0008 MB\n",
      "\n",
      "The generated array size: 100 x 100\n",
      " np - elapsed time: 0.092977 ms\n",
      " cp - elapsed time: 0.25351 ms\n",
      " np (2.72661 times faster) consumed 36.676% of time compared to cp\n",
      "array's allocated memory: 0.08 MB\n",
      "\n",
      "The generated array size: 1000 x 1000\n",
      " np - elapsed time:  1.84 ms\n",
      " cp - elapsed time: 0.1092 ms\n",
      " cp (16.85006 times faster) consumed 5.935% of time compared to np\n",
      "array's allocated memory: 8.0 MB\n",
      "\n",
      "The generated array size: 5000 x 5000\n",
      " np - elapsed time: 38.031 ms\n",
      " cp - elapsed time: 0.11016 ms\n",
      " cp (345.2367 times faster) consumed 0.290% of time compared to np\n",
      "array's allocated memory: 200.0 MB\n",
      "\n",
      "The generated array size: 10000 x 10000\n",
      " np - elapsed time: 141.04 ms\n",
      " cp - elapsed time: 0.10108 ms\n",
      " cp (1395.391 times faster) consumed 0.072% of time compared to np\n",
      "array's allocated memory: 800.0 MB\n",
      "\n",
      "The generated array size: 20000 x 20000\n",
      " np - elapsed time: 555.53 ms\n",
      " cp - elapsed time: 0.10028 ms\n",
      " cp (5539.853 times faster) consumed 0.018% of time compared to np\n",
      "array's allocated memory: 3200.0 MB\n",
      "\n"
     ]
    }
   ],
   "source": [
    "# tester\n",
    "def TEST_calc_norm(w, h):\n",
    "    print(\"The generated array size:\", w, \"x\", h)\n",
    "\n",
    "    timer_np = TicTok(\" np - elapsed time:\")\n",
    "    x_np = np.arange(w*h).reshape(w, h)\n",
    "    with timer_np:\n",
    "        np.linalg.norm(x_np)\n",
    "        \n",
    "    timer_cp = TicTok(\" cp - elapsed time:\")\n",
    "    x_cp = cp.arange(w*h).reshape(w, h)\n",
    "    with timer_cp:\n",
    "        cp.linalg.norm(x_cp)\n",
    "    \n",
    "    if(timer_np.elapsed > timer_cp.elapsed):\n",
    "        gain = timer_cp.elapsed / timer_np.elapsed\n",
    "        print(\" cp ({:4.7} times faster) consumed {:5.3%} of time compared to np\".format((1/gain)/1, gain))\n",
    "    else:\n",
    "        gain = timer_np.elapsed / timer_cp.elapsed\n",
    "        print(\" np ({:4.7} times faster) consumed {:5.3%} of time compared to cp\".format((1/gain)/1, gain))\n",
    "\n",
    "    print(\"array's allocated memory:\", x_cp.nbytes/1000000, \"MB\")\n",
    "    print(\"\")\n",
    "\n",
    "    \n",
    "# test \n",
    "TEST_calc_norm(10, 10)\n",
    "TEST_calc_norm(100, 100)\n",
    "TEST_calc_norm(1000, 1000)\n",
    "TEST_calc_norm(5000, 5000)\n",
    "TEST_calc_norm(10000, 10000)\n",
    "TEST_calc_norm(20000, 20000)"
   ]
  }
 ],
 "metadata": {
  "kernelspec": {
   "display_name": "Python 3 (ipykernel)",
   "language": "python",
   "name": "python3"
  },
  "language_info": {
   "codemirror_mode": {
    "name": "ipython",
    "version": 3
   },
   "file_extension": ".py",
   "mimetype": "text/x-python",
   "name": "python",
   "nbconvert_exporter": "python",
   "pygments_lexer": "ipython3",
   "version": "3.8.11"
  }
 },
 "nbformat": 4,
 "nbformat_minor": 5
}
